{
  "nbformat": 4,
  "nbformat_minor": 0,
  "metadata": {
    "colab": {
      "provenance": []
    },
    "kernelspec": {
      "name": "python3",
      "display_name": "Python 3"
    },
    "language_info": {
      "name": "python"
    }
  },
  "cells": [
    {
      "cell_type": "markdown",
      "source": [
        "#Extra llevado a cabo por Joel Brenes Vargas."
      ],
      "metadata": {
        "id": "rsMHRNIGsOxx"
      }
    },
    {
      "cell_type": "markdown",
      "source": [
        "## Interoperabilidad"
      ],
      "metadata": {
        "id": "A0PJ9M3wIyXU"
      }
    },
    {
      "cell_type": "markdown",
      "source": [
        "El siguiente codigo esta generado por chatGPT con el siguiente prompt:\n",
        "\n",
        "Prompt (joel.brenes.vargas@est.una.ac.cr.com):\n",
        "\n",
        "\"Genera un ejemplo de interoperabilidad entre python y c++ (usando pybind11) para mejorar el rendimiento de una operacion pesada. El programa debe incluir una version en python con operaciones costosas y una operacion equivalente en c++. Al final compara los tiempos de corrida.\""
      ],
      "metadata": {
        "id": "xsP_5nkHWeik"
      }
    },
    {
      "cell_type": "code",
      "source": [
        "!pip install pybind11"
      ],
      "metadata": {
        "colab": {
          "base_uri": "https://localhost:8080/"
        },
        "collapsed": true,
        "id": "IJVneaMaI-5X",
        "outputId": "0aa30444-636e-4a48-ac67-5918477a9ebb"
      },
      "execution_count": 6,
      "outputs": [
        {
          "output_type": "stream",
          "name": "stdout",
          "text": [
            "Requirement already satisfied: pybind11 in /usr/local/lib/python3.11/dist-packages (2.13.6)\n"
          ]
        }
      ]
    },
    {
      "cell_type": "code",
      "source": [
        "%%writefile setup.py\n",
        "from setuptools import setup\n",
        "from pybind11.setup_helpers import Pybind11Extension, build_ext\n",
        "\n",
        "ext_modules = [\n",
        "    Pybind11Extension(\n",
        "        \"sum_arrays\",\n",
        "        [\"sum_arrays.cpp\"],\n",
        "    ),\n",
        "]\n",
        "\n",
        "setup(\n",
        "    name=\"sum_arrays\",\n",
        "    ext_modules=ext_modules,\n",
        "    cmdclass={\"build_ext\": build_ext},\n",
        ")\n"
      ],
      "metadata": {
        "colab": {
          "base_uri": "https://localhost:8080/"
        },
        "collapsed": true,
        "id": "jJaW9KfsKN46",
        "outputId": "5bcaffda-0e53-49c4-c121-04c3c3cb6790"
      },
      "execution_count": 1,
      "outputs": [
        {
          "output_type": "stream",
          "name": "stdout",
          "text": [
            "Overwriting setup.py\n"
          ]
        }
      ]
    },
    {
      "cell_type": "code",
      "source": [
        "%%writefile sum_arrays.cpp\n",
        "#include <pybind11/pybind11.h>\n",
        "#include <pybind11/numpy.h>\n",
        "#include <cmath>\n",
        "\n",
        "namespace py = pybind11;\n",
        "\n",
        "py::array_t<double> sum_arrays_cpp(py::array_t<double> a, py::array_t<double> b) {\n",
        "    auto buf1 = a.request(), buf2 = b.request();\n",
        "    if (buf1.size != buf2.size)\n",
        "        throw std::runtime_error(\"Arrays must be the same size\");\n",
        "\n",
        "    auto result = py::array_t<double>(buf1.size);\n",
        "    auto buf3 = result.request();\n",
        "\n",
        "    double* ptr1 = static_cast<double*>(buf1.ptr);\n",
        "    double* ptr2 = static_cast<double*>(buf2.ptr);\n",
        "    double* ptr3 = static_cast<double*>(buf3.ptr);\n",
        "\n",
        "    for (ssize_t i = 0; i < buf1.size; i++) {\n",
        "        double acc = 0;\n",
        "        for (int j = 0; j < 50; j++) {\n",
        "            acc += std::sqrt(ptr1[i] + ptr2[i] + j);\n",
        "        }\n",
        "        ptr3[i] = acc;\n",
        "    }\n",
        "\n",
        "    result.resize({buf1.shape[0]});\n",
        "    return result;\n",
        "}\n",
        "\n",
        "PYBIND11_MODULE(sum_arrays, m) {\n",
        "    m.def(\"sum_arrays_cpp\", &sum_arrays_cpp, \"Sum two large arrays in C++\");\n",
        "}\n"
      ],
      "metadata": {
        "colab": {
          "base_uri": "https://localhost:8080/"
        },
        "collapsed": true,
        "id": "sE9LU6AnKLl8",
        "outputId": "d8887f07-0f0c-463d-c624-47b31ac46915"
      },
      "execution_count": 2,
      "outputs": [
        {
          "output_type": "stream",
          "name": "stdout",
          "text": [
            "Overwriting sum_arrays.cpp\n"
          ]
        }
      ]
    },
    {
      "cell_type": "code",
      "source": [
        "!rm sum_arrays*.so\n",
        "!python setup.py build_ext --inplace\n"
      ],
      "metadata": {
        "colab": {
          "base_uri": "https://localhost:8080/"
        },
        "collapsed": true,
        "id": "KG9JFV03KPj3",
        "outputId": "b6c241c4-4f0d-41fa-ce40-25d210966dd9"
      },
      "execution_count": 3,
      "outputs": [
        {
          "output_type": "stream",
          "name": "stdout",
          "text": [
            "running build_ext\n",
            "x86_64-linux-gnu-g++ -Wsign-compare -DNDEBUG -g -fwrapv -O2 -Wall -g -fstack-protector-strong -Wformat -Werror=format-security -g -fwrapv -O2 -fPIC -I/usr/include/python3.11 -c flagcheck.cpp -o flagcheck.o -std=c++17\n",
            "building 'sum_arrays' extension\n",
            "x86_64-linux-gnu-g++ -Wsign-compare -DNDEBUG -g -fwrapv -O2 -Wall -g -fstack-protector-strong -Wformat -Werror=format-security -g -fwrapv -O2 -fPIC -I/usr/local/lib/python3.11/dist-packages/pybind11/include -I/usr/include/python3.11 -c sum_arrays.cpp -o build/temp.linux-x86_64-cpython-311/sum_arrays.o -std=c++17 -fvisibility=hidden -g0\n",
            "x86_64-linux-gnu-g++ -Wsign-compare -DNDEBUG -g -fwrapv -O2 -Wall -g -fstack-protector-strong -Wformat -Werror=format-security -g -fwrapv -O2 -shared -Wl,-O1 -Wl,-Bsymbolic-functions build/temp.linux-x86_64-cpython-311/sum_arrays.o -L/usr/lib/x86_64-linux-gnu -o build/lib.linux-x86_64-cpython-311/sum_arrays.cpython-311-x86_64-linux-gnu.so\n",
            "copying build/lib.linux-x86_64-cpython-311/sum_arrays.cpython-311-x86_64-linux-gnu.so -> \n"
          ]
        }
      ]
    },
    {
      "cell_type": "code",
      "source": [
        "import random\n",
        "import time\n",
        "import math\n",
        "from sum_arrays import sum_arrays_cpp\n",
        "\n",
        "# Generar listas grandes de floats\n",
        "size = 1_000_000\n",
        "a = [random.random() for _ in range(size)]\n",
        "b = [random.random() for _ in range(size)]\n",
        "\n",
        "# Función en Python puro\n",
        "def suma_pura(a, b):\n",
        "    result = [0] * len(a)\n",
        "    for i in range(len(a)):\n",
        "        acc = 0\n",
        "        for j in range(50):\n",
        "            acc += math.sqrt(a[i] + b[i] + j)\n",
        "        result[i] = acc\n",
        "    return result\n",
        "\n",
        "# Función para comparar listas\n",
        "def all_close(list1, list2, tol=1e-6):\n",
        "    if len(list1) != len(list2):\n",
        "        return False\n",
        "    for x, y in zip(list1, list2):\n",
        "        if abs(x - y) > tol:\n",
        "            return False\n",
        "    return True\n",
        "\n",
        "# Medir tiempo Python puro\n",
        "start_py = time.time()\n",
        "res_py = suma_pura(a, b)\n",
        "end_py = time.time()\n",
        "print(f\"Python puro: {end_py - start_py:.4f} s\")\n",
        "\n",
        "# Medir tiempo C++\n",
        "import numpy as np\n",
        "a_np = np.array(a, dtype=np.float64)\n",
        "b_np = np.array(b, dtype=np.float64)\n",
        "\n",
        "start_cpp = time.time()\n",
        "res_cpp = sum_arrays_cpp(a_np, b_np)\n",
        "end_cpp = time.time()\n",
        "print(f\"C++ vía pybind11: {end_cpp - start_cpp:.4f} s\")\n",
        "\n",
        "# Validar resultados\n",
        "print(\"¿Resultados iguales?\", all_close(res_py, res_cpp.tolist()))\n",
        "\n",
        "for i in range(10):\n",
        "    print(f\"{i}: Python={res_py[i]:.8f}, C++={res_cpp[i]:.8f}, Δ={abs(res_py[i] - res_cpp[i]):.10f}\")\n",
        "\n",
        "\n"
      ],
      "metadata": {
        "colab": {
          "base_uri": "https://localhost:8080/"
        },
        "id": "R9KFjxuHKRI_",
        "outputId": "c02703a7-8aa1-40ab-ce06-cb423b26a46f"
      },
      "execution_count": 4,
      "outputs": [
        {
          "output_type": "stream",
          "name": "stdout",
          "text": [
            "Python puro: 6.8339 s\n",
            "C++ vía pybind11: 0.1186 s\n",
            "¿Resultados iguales? True\n",
            "0: Python=243.38012313, C++=243.38012313, Δ=0.0000000000\n",
            "1: Python=237.00890427, C++=237.00890427, Δ=0.0000000000\n",
            "2: Python=240.34765917, C++=240.34765917, Δ=0.0000000000\n",
            "3: Python=241.90554424, C++=241.90554424, Δ=0.0000000000\n",
            "4: Python=239.04414849, C++=239.04414849, Δ=0.0000000000\n",
            "5: Python=235.96714735, C++=235.96714735, Δ=0.0000000000\n",
            "6: Python=242.98258245, C++=242.98258245, Δ=0.0000000000\n",
            "7: Python=239.89223307, C++=239.89223307, Δ=0.0000000000\n",
            "8: Python=241.57815342, C++=241.57815342, Δ=0.0000000000\n",
            "9: Python=242.81380692, C++=242.81380692, Δ=0.0000000000\n"
          ]
        }
      ]
    },
    {
      "cell_type": "markdown",
      "source": [
        "## Profiling"
      ],
      "metadata": {
        "id": "dEutyLUtIvMi"
      }
    },
    {
      "cell_type": "code",
      "execution_count": 8,
      "metadata": {
        "colab": {
          "base_uri": "https://localhost:8080/"
        },
        "id": "mtGTsh5HjJyt",
        "outputId": "59a49ff0-fb77-493a-b521-0ae82d934187"
      },
      "outputs": [
        {
          "output_type": "stream",
          "name": "stdout",
          "text": [
            "Generando matrices 300×300...\n",
            "\n",
            "--- Profiling: implementación ingenua ---\n",
            "         4 function calls in 7.959 seconds\n",
            "\n",
            "   Ordered by: internal time\n",
            "\n",
            "   ncalls  tottime  percall  cumtime  percall filename:lineno(function)\n",
            "        1    7.958    7.958    7.959    7.959 /tmp/ipython-input-8-3909244992.py:14(matmul_naive)\n",
            "        1    0.001    0.001    0.001    0.001 /tmp/ipython-input-8-3909244992.py:21(<listcomp>)\n",
            "        1    0.000    0.000    0.000    0.000 {method 'disable' of '_lsprof.Profiler' objects}\n",
            "        1    0.000    0.000    0.000    0.000 {built-in method builtins.len}\n",
            "\n",
            "\n",
            "\n",
            "--- Profiling: implementación NumPy ---\n",
            "         3 function calls in 0.015 seconds\n",
            "\n",
            "   Ordered by: internal time\n",
            "\n",
            "   ncalls  tottime  percall  cumtime  percall filename:lineno(function)\n",
            "        1    0.015    0.015    0.015    0.015 {method 'dot' of 'numpy.ndarray' objects}\n",
            "        1    0.000    0.000    0.015    0.015 /tmp/ipython-input-8-3909244992.py:30(matmul_numpy)\n",
            "        1    0.000    0.000    0.000    0.000 {method 'disable' of '_lsprof.Profiler' objects}\n",
            "\n",
            "\n"
          ]
        }
      ],
      "source": [
        "\"\"\"\n",
        "Prompt (joel.brenes.vargas@est.una.ac.cr.com):\n",
        "Genera un código en Python altamente demostrativo del uso de profiling, con un cuello de botella evidente y medible mediante cProfile. El programa debe permitir analizar y cuantificar el rendimiento de diferentes partes del código al generar una gran cantidad de objetos y realizar operaciones costosas.\n",
        "\"\"\"\n",
        "\n",
        "import numpy as np\n",
        "import cProfile\n",
        "import pstats\n",
        "\n",
        "def generate_matrices(n):\n",
        "    \"\"\"Genera dos matrices n×n con valores aleatorios en [0,1).\"\"\"\n",
        "    return np.random.rand(n, n), np.random.rand(n, n)\n",
        "\n",
        "def matmul_naive(A, B):\n",
        "    \"\"\"\n",
        "    Multiplicación de matrices ingenua usando listas de Python.\n",
        "    A y B deben ser listas de listas (no arrays de NumPy).\n",
        "    \"\"\"\n",
        "    n = len(A)\n",
        "    # Inicializar resultado con ceros\n",
        "    C = [[0.0]*n for _ in range(n)]\n",
        "    for i in range(n):\n",
        "        for j in range(n):\n",
        "            total = 0.0\n",
        "            for k in range(n):\n",
        "                total += A[i][k] * B[k][j]\n",
        "            C[i][j] = total\n",
        "    return C\n",
        "\n",
        "def matmul_numpy(A, B):\n",
        "    \"\"\"Multiplicación de matrices usando NumPy (dot product).\"\"\"\n",
        "    return A.dot(B)\n",
        "\n",
        "def profile_function(func, *args):\n",
        "    \"\"\"\n",
        "    Ejecuta func(*args) bajo cProfile y muestra las 10 funciones\n",
        "    más costosas ordenadas por tottime.\n",
        "    \"\"\"\n",
        "    profiler = cProfile.Profile()\n",
        "    profiler.enable()\n",
        "    result = func(*args)\n",
        "    profiler.disable()\n",
        "\n",
        "    stats = pstats.Stats(profiler).sort_stats('tottime')\n",
        "    stats.print_stats(10)\n",
        "    return result\n",
        "\n",
        "def main():\n",
        "    n = 300  # Tamaño de las matrices (ajusta según tu entorno)\n",
        "    print(f\"Generando matrices {n}×{n}...\")\n",
        "    A, B = generate_matrices(n)\n",
        "\n",
        "    print(\"\\n--- Profiling: implementación ingenua ---\")\n",
        "    # matmul_naive necesita listas de Python\n",
        "    profile_function(matmul_naive, A.tolist(), B.tolist())\n",
        "\n",
        "    print(\"\\n--- Profiling: implementación NumPy ---\")\n",
        "    profile_function(matmul_numpy, A, B)\n",
        "\n",
        "if __name__ == \"__main__\":\n",
        "    main()\n"
      ]
    }
  ]
}